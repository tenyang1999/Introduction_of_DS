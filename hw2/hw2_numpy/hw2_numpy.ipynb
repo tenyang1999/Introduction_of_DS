{
 "cells": [
  {
   "cell_type": "markdown",
   "id": "7d0bb4ba",
   "metadata": {},
   "source": [
    "## Instructions\n",
    "\n",
    "#### 。 This homework has two parts\n",
    "    1. There are 6 simple questions, just follow the instrctions and get the same output as the following.\n",
    "    2. It's how simple neural networks work. As the same as part 1, just follow the instructions and get the same output\n",
    "\n",
    "#### 。 All of this homework should use Numpy or Pandas\n",
    "\n",
    "#### 。 Please follow the same variable name as the instuctions of every questions "
   ]
  },
  {
   "cell_type": "markdown",
   "id": "4a785df8",
   "metadata": {},
   "source": [
    "## Part 1"
   ]
  },
  {
   "cell_type": "markdown",
   "id": "79e75da6",
   "metadata": {},
   "source": [
    "**1. Import both numpy and pandas packages**"
   ]
  },
  {
   "cell_type": "code",
   "execution_count": 86,
   "id": "731951b8",
   "metadata": {},
   "outputs": [],
   "source": [
    "import numpy as np\n",
    "import pandas as pd"
   ]
  },
  {
   "cell_type": "markdown",
   "id": "35e53ccc",
   "metadata": {},
   "source": [
    "**2. Create a 3x3 matrix with values ranging from 0 to 8**"
   ]
  },
  {
   "cell_type": "code",
   "execution_count": 87,
   "id": "7427a629",
   "metadata": {},
   "outputs": [
    {
     "data": {
      "text/plain": [
       "array([[0, 1, 2],\n",
       "       [3, 4, 5],\n",
       "       [6, 7, 8]])"
      ]
     },
     "execution_count": 87,
     "metadata": {},
     "output_type": "execute_result"
    }
   ],
   "source": [
    "np.arange(9).reshape(3,3)\n",
    "\n",
    "#np.array([i for i in range(9)]).reshape(3,3)\n",
    "\n",
    "#array([[0, 1, 2],\n",
    "#       [3, 4, 5],\n",
    "#       [6, 7, 8]])"
   ]
  },
  {
   "cell_type": "markdown",
   "id": "e10054c0",
   "metadata": {},
   "source": [
    "**3. Create a 5x5 matrix with row values ranging from 0 to 4**"
   ]
  },
  {
   "cell_type": "code",
   "execution_count": 88,
   "id": "f4499c50",
   "metadata": {},
   "outputs": [
    {
     "data": {
      "text/plain": [
       "array([[0, 1, 2, 3, 4],\n",
       "       [0, 1, 2, 3, 4],\n",
       "       [0, 1, 2, 3, 4],\n",
       "       [0, 1, 2, 3, 4],\n",
       "       [0, 1, 2, 3, 4]])"
      ]
     },
     "execution_count": 88,
     "metadata": {},
     "output_type": "execute_result"
    }
   ],
   "source": [
    "np.array([i for i in range(5)]*5).reshape(5,5)"
   ]
  },
  {
   "cell_type": "markdown",
   "id": "28fcfbd4",
   "metadata": {},
   "source": [
    "**4. How to swap the first and second rows of a**"
   ]
  },
  {
   "cell_type": "code",
   "execution_count": 89,
   "id": "742d6c69",
   "metadata": {},
   "outputs": [
    {
     "data": {
      "text/plain": [
       "array([[ 5,  6,  7,  8,  9],\n",
       "       [ 0,  1,  2,  3,  4],\n",
       "       [10, 11, 12, 13, 14],\n",
       "       [15, 16, 17, 18, 19],\n",
       "       [20, 21, 22, 23, 24]])"
      ]
     },
     "execution_count": 89,
     "metadata": {},
     "output_type": "execute_result"
    }
   ],
   "source": [
    "a = np.arange(25).reshape(5,5)\n",
    "\n",
    "#print(a)\n",
    "\n",
    "a[[0,1], :] = a[[1,0],:]\n",
    "a"
   ]
  },
  {
   "cell_type": "markdown",
   "id": "88d04f30",
   "metadata": {},
   "source": [
    "**5. Give two ways to show how to get the n largest values of a (no sort the value is fine)**"
   ]
  },
  {
   "cell_type": "code",
   "execution_count": 90,
   "id": "4d41a623",
   "metadata": {},
   "outputs": [],
   "source": [
    "# Don't need to change this cell\n",
    "a = np.arange(100)\n",
    "np.random.shuffle(a)\n",
    "n = 5\n",
    "#print(a)"
   ]
  },
  {
   "cell_type": "code",
   "execution_count": 91,
   "id": "6c9a0015",
   "metadata": {},
   "outputs": [
    {
     "data": {
      "text/plain": [
       "array([95, 96, 97, 98, 99])"
      ]
     },
     "execution_count": 91,
     "metadata": {},
     "output_type": "execute_result"
    }
   ],
   "source": [
    "# Way 1\n",
    "# [95 96 97 98 99]\n",
    "\n",
    "np.sort(a)[-5:]"
   ]
  },
  {
   "cell_type": "code",
   "execution_count": 92,
   "id": "79eba703",
   "metadata": {},
   "outputs": [
    {
     "data": {
      "text/plain": [
       "array([99, 98, 97, 96, 95])"
      ]
     },
     "execution_count": 92,
     "metadata": {},
     "output_type": "execute_result"
    }
   ],
   "source": [
    "# Way 2\n",
    "# [99 98 97 95 96]\n",
    "-np.sort(-a)[:5]"
   ]
  },
  {
   "cell_type": "markdown",
   "id": "6fb2592e",
   "metadata": {},
   "source": [
    "**6. Compare if array a and array b is totally the same**"
   ]
  },
  {
   "cell_type": "code",
   "execution_count": 93,
   "id": "b3b92561",
   "metadata": {},
   "outputs": [
    {
     "name": "stdout",
     "output_type": "stream",
     "text": [
      "[ 70.  29.  23.  55.  72.  42.  98.  68.  48.  39.  34.  73.  44.   6.\n",
      "  40.  74.  18.  18.  53.  53.  63.  85.  72.  61.  72.  32.  36.  23.\n",
      "  29.  63.   9.  43.  43.  49.  43.  31.  43.  89.  94.  50.  62.  12.\n",
      "  32.  41.  87.  25.  48.  99.  52.  61.  12.  83.  60.  55.  34.  30.\n",
      "  42.  68.  88.  51.  67.  59.  62.  67.  84.   8.  76.  24.  19.  57.\n",
      "  10.  89.  63.  72.   2.  59.  56.  16.  15.  70.  32.  69.  55.  39.\n",
      "  93.  84.  36.   4.  30.  40.  70. 100.  36.  76.  59.  69.  15.  40.\n",
      "  24.  34.]\n",
      "[78  9 79  7 66 95 71 41 75 77 77 26  8 14 45  2 42 79 57 88 64 98  4 18\n",
      " 89 88 70 98 51  3 19 47 46 58 36 19 92 47 55 74 82 63 68 12 27 93 76 11\n",
      "  4 46 59 60 24 26 28 58  4 79 86 60 49 57 88 88  5 70 57 61 10 67 34 70\n",
      " 10 80 29 67 11  4 49  4 24 92 56 35 38 50 88 86 26 18 59 67 46 11  9 97\n",
      " 26 68 66  8]\n"
     ]
    },
    {
     "data": {
      "text/plain": [
       "False"
      ]
     },
     "execution_count": 93,
     "metadata": {},
     "output_type": "execute_result"
    }
   ],
   "source": [
    "np.random.seed(123)\n",
    "a = np.round(np.random.random(100)*100, 0)\n",
    "b = np.random.randint(1, 100, 100)\n",
    "\n",
    "# Put your code here\n",
    "print(a)\n",
    "print(b)\n",
    "\n",
    "np.array_equal(a, b)"
   ]
  },
  {
   "cell_type": "markdown",
   "id": "bc596005",
   "metadata": {},
   "source": [
    "## Part 2"
   ]
  },
  {
   "cell_type": "markdown",
   "id": "70824df6",
   "metadata": {},
   "source": [
    "### Online Shoppers Purchasing Intention Dataset\n",
    "\n",
    "The dataset consists of 10 numerical and 8 categorical attributes. The 'Revenue' attribute can be used as the class label.\n",
    "\n",
    "* ``0 Administrative``, ``1 Administrative Duration``, ``2 Informational``, ``3 Informational Duration``, ``4 Product Related`` and ``5 Product Related Duration`` - represent the number of different types of pages visited by the visitor in that session and total time spent in each of these page categories. The values of these features are derived from the URL information of the pages visited by the user and updated in real time when a user takes an action, e.g. moving from one page to another. \n",
    "\n",
    "\n",
    "* ``6 Bounce Rate``, ``7 Exit Rate`` and ``8 Page Value`` - represent the metrics measured by \"Google Analytics\" for each page in the e-commerce site. The value of \"Bounce Rate\" feature for a web page refers to the percentage of visitors who enter the site from that page and then leave (\"bounce\") without triggering any other requests to the analytics server during that session. The value of \"Exit Rate\" feature for a specific web page is calculated as for all pageviews to the page, the percentage that were the last in the session. The \"Page Value\" feature represents the average value for a web page that a user visited before completing an e-commerce transaction. \n",
    "\n",
    "\n",
    "* ``9 Special Day`` - indicates the closeness of the site visiting time to a specific special day (e.g. Mother’s Day, Valentine's Day) in which the sessions are more likely to be finalized with transaction. The value of this attribute is determined by considering the dynamics of e-commerce such as the duration between the order date and delivery date. For example, for Valentina’s day, this value takes a nonzero value between February 2 and February 12, zero before and after this date unless it is close to another special day, and its maximum value of 1 on February 8. \n",
    "\n",
    "\n",
    "* The dataset also includes ``11 operating system``, ``12 browser``, ``13 region``, ``14 traffic type``, ``15 visitor type`` as returning or new visitor, a Boolean value indicating whether the date of the visit is ``16 weekend``, and ``9 month of the year``.\n",
    "\n",
    "\n",
    "---\n",
    "* **``17 Revenue``** - binary labels\n",
    "\n",
    "\n",
    "\n",
    "* More information of this data: [UCI | Online Shoppers Purchasing Intention Dataset](https://archive.ics.uci.edu/ml/datasets/Online+Shoppers+Purchasing+Intention+Dataset#)"
   ]
  },
  {
   "cell_type": "markdown",
   "id": "5dff7032",
   "metadata": {},
   "source": [
    "**Use pandas to import the data and check the shape of dataset and save it as `\" shoppers \"`**"
   ]
  },
  {
   "cell_type": "code",
   "execution_count": 122,
   "id": "66dd59b2",
   "metadata": {},
   "outputs": [
    {
     "data": {
      "text/html": [
       "<div>\n",
       "<style scoped>\n",
       "    .dataframe tbody tr th:only-of-type {\n",
       "        vertical-align: middle;\n",
       "    }\n",
       "\n",
       "    .dataframe tbody tr th {\n",
       "        vertical-align: top;\n",
       "    }\n",
       "\n",
       "    .dataframe thead th {\n",
       "        text-align: right;\n",
       "    }\n",
       "</style>\n",
       "<table border=\"1\" class=\"dataframe\">\n",
       "  <thead>\n",
       "    <tr style=\"text-align: right;\">\n",
       "      <th></th>\n",
       "      <th>Administrative</th>\n",
       "      <th>Administrative_Duration</th>\n",
       "      <th>Informational</th>\n",
       "      <th>Informational_Duration</th>\n",
       "      <th>ProductRelated</th>\n",
       "      <th>ProductRelated_Duration</th>\n",
       "      <th>BounceRates</th>\n",
       "      <th>ExitRates</th>\n",
       "      <th>PageValues</th>\n",
       "      <th>SpecialDay</th>\n",
       "      <th>Month</th>\n",
       "      <th>OperatingSystems</th>\n",
       "      <th>Browser</th>\n",
       "      <th>Region</th>\n",
       "      <th>TrafficType</th>\n",
       "      <th>VisitorType</th>\n",
       "      <th>Weekend</th>\n",
       "      <th>Revenue</th>\n",
       "    </tr>\n",
       "  </thead>\n",
       "  <tbody>\n",
       "    <tr>\n",
       "      <th>0</th>\n",
       "      <td>0</td>\n",
       "      <td>0.0</td>\n",
       "      <td>0</td>\n",
       "      <td>0.0</td>\n",
       "      <td>1</td>\n",
       "      <td>0.000000</td>\n",
       "      <td>0.20</td>\n",
       "      <td>0.20</td>\n",
       "      <td>0.0</td>\n",
       "      <td>0.0</td>\n",
       "      <td>Feb</td>\n",
       "      <td>1</td>\n",
       "      <td>1</td>\n",
       "      <td>1</td>\n",
       "      <td>1</td>\n",
       "      <td>Returning_Visitor</td>\n",
       "      <td>False</td>\n",
       "      <td>False</td>\n",
       "    </tr>\n",
       "    <tr>\n",
       "      <th>1</th>\n",
       "      <td>0</td>\n",
       "      <td>0.0</td>\n",
       "      <td>0</td>\n",
       "      <td>0.0</td>\n",
       "      <td>2</td>\n",
       "      <td>64.000000</td>\n",
       "      <td>0.00</td>\n",
       "      <td>0.10</td>\n",
       "      <td>0.0</td>\n",
       "      <td>0.0</td>\n",
       "      <td>Feb</td>\n",
       "      <td>2</td>\n",
       "      <td>2</td>\n",
       "      <td>1</td>\n",
       "      <td>2</td>\n",
       "      <td>Returning_Visitor</td>\n",
       "      <td>False</td>\n",
       "      <td>False</td>\n",
       "    </tr>\n",
       "    <tr>\n",
       "      <th>2</th>\n",
       "      <td>0</td>\n",
       "      <td>0.0</td>\n",
       "      <td>0</td>\n",
       "      <td>0.0</td>\n",
       "      <td>1</td>\n",
       "      <td>0.000000</td>\n",
       "      <td>0.20</td>\n",
       "      <td>0.20</td>\n",
       "      <td>0.0</td>\n",
       "      <td>0.0</td>\n",
       "      <td>Feb</td>\n",
       "      <td>4</td>\n",
       "      <td>1</td>\n",
       "      <td>9</td>\n",
       "      <td>3</td>\n",
       "      <td>Returning_Visitor</td>\n",
       "      <td>False</td>\n",
       "      <td>False</td>\n",
       "    </tr>\n",
       "    <tr>\n",
       "      <th>3</th>\n",
       "      <td>0</td>\n",
       "      <td>0.0</td>\n",
       "      <td>0</td>\n",
       "      <td>0.0</td>\n",
       "      <td>2</td>\n",
       "      <td>2.666667</td>\n",
       "      <td>0.05</td>\n",
       "      <td>0.14</td>\n",
       "      <td>0.0</td>\n",
       "      <td>0.0</td>\n",
       "      <td>Feb</td>\n",
       "      <td>3</td>\n",
       "      <td>2</td>\n",
       "      <td>2</td>\n",
       "      <td>4</td>\n",
       "      <td>Returning_Visitor</td>\n",
       "      <td>False</td>\n",
       "      <td>False</td>\n",
       "    </tr>\n",
       "    <tr>\n",
       "      <th>4</th>\n",
       "      <td>0</td>\n",
       "      <td>0.0</td>\n",
       "      <td>0</td>\n",
       "      <td>0.0</td>\n",
       "      <td>10</td>\n",
       "      <td>627.500000</td>\n",
       "      <td>0.02</td>\n",
       "      <td>0.05</td>\n",
       "      <td>0.0</td>\n",
       "      <td>0.0</td>\n",
       "      <td>Feb</td>\n",
       "      <td>3</td>\n",
       "      <td>3</td>\n",
       "      <td>1</td>\n",
       "      <td>4</td>\n",
       "      <td>Returning_Visitor</td>\n",
       "      <td>True</td>\n",
       "      <td>False</td>\n",
       "    </tr>\n",
       "  </tbody>\n",
       "</table>\n",
       "</div>"
      ],
      "text/plain": [
       "   Administrative  Administrative_Duration  Informational  \\\n",
       "0               0                      0.0              0   \n",
       "1               0                      0.0              0   \n",
       "2               0                      0.0              0   \n",
       "3               0                      0.0              0   \n",
       "4               0                      0.0              0   \n",
       "\n",
       "   Informational_Duration  ProductRelated  ProductRelated_Duration  \\\n",
       "0                     0.0               1                 0.000000   \n",
       "1                     0.0               2                64.000000   \n",
       "2                     0.0               1                 0.000000   \n",
       "3                     0.0               2                 2.666667   \n",
       "4                     0.0              10               627.500000   \n",
       "\n",
       "   BounceRates  ExitRates  PageValues  SpecialDay Month  OperatingSystems  \\\n",
       "0         0.20       0.20         0.0         0.0   Feb                 1   \n",
       "1         0.00       0.10         0.0         0.0   Feb                 2   \n",
       "2         0.20       0.20         0.0         0.0   Feb                 4   \n",
       "3         0.05       0.14         0.0         0.0   Feb                 3   \n",
       "4         0.02       0.05         0.0         0.0   Feb                 3   \n",
       "\n",
       "   Browser  Region  TrafficType        VisitorType  Weekend  Revenue  \n",
       "0        1       1            1  Returning_Visitor    False    False  \n",
       "1        2       1            2  Returning_Visitor    False    False  \n",
       "2        1       9            3  Returning_Visitor    False    False  \n",
       "3        2       2            4  Returning_Visitor    False    False  \n",
       "4        3       1            4  Returning_Visitor     True    False  "
      ]
     },
     "execution_count": 122,
     "metadata": {},
     "output_type": "execute_result"
    }
   ],
   "source": [
    "shoppers = pd.read_csv('online_shoppers_intention.csv')\n",
    "shoppers.head(5)"
   ]
  },
  {
   "cell_type": "code",
   "execution_count": 117,
   "id": "d5f53515-d1e9-4265-9eb1-c35c3d584d3a",
   "metadata": {},
   "outputs": [
    {
     "data": {
      "text/plain": [
       "(12330, 18)"
      ]
     },
     "execution_count": 117,
     "metadata": {},
     "output_type": "execute_result"
    }
   ],
   "source": [
    "np.shape(shoppers)"
   ]
  },
  {
   "cell_type": "markdown",
   "id": "a3f20129",
   "metadata": {},
   "source": [
    "**Use pandas function to let label be numeric as below and save it as `\" label \"`**"
   ]
  },
  {
   "cell_type": "code",
   "execution_count": 123,
   "id": "dff561d3",
   "metadata": {},
   "outputs": [
    {
     "data": {
      "text/plain": [
       "array([0, 0, 0, ..., 0, 0, 0])"
      ]
     },
     "execution_count": 123,
     "metadata": {},
     "output_type": "execute_result"
    }
   ],
   "source": [
    "label = shoppers['Revenue']\n",
    "label = label.map({False:0,True:1})\n",
    "np.array(label)"
   ]
  },
  {
   "cell_type": "markdown",
   "id": "21859d91",
   "metadata": {},
   "source": [
    "**See some information of this data**"
   ]
  },
  {
   "cell_type": "code",
   "execution_count": 97,
   "id": "6555a4cf",
   "metadata": {},
   "outputs": [
    {
     "name": "stdout",
     "output_type": "stream",
     "text": [
      "<class 'pandas.core.frame.DataFrame'>\n",
      "RangeIndex: 12330 entries, 0 to 12329\n",
      "Data columns (total 18 columns):\n",
      " #   Column                   Non-Null Count  Dtype  \n",
      "---  ------                   --------------  -----  \n",
      " 0   Administrative           12330 non-null  int64  \n",
      " 1   Administrative_Duration  12330 non-null  float64\n",
      " 2   Informational            12330 non-null  int64  \n",
      " 3   Informational_Duration   12330 non-null  float64\n",
      " 4   ProductRelated           12330 non-null  int64  \n",
      " 5   ProductRelated_Duration  12330 non-null  float64\n",
      " 6   BounceRates              12330 non-null  float64\n",
      " 7   ExitRates                12330 non-null  float64\n",
      " 8   PageValues               12330 non-null  float64\n",
      " 9   SpecialDay               12330 non-null  float64\n",
      " 10  Month                    12330 non-null  object \n",
      " 11  OperatingSystems         12330 non-null  int64  \n",
      " 12  Browser                  12330 non-null  int64  \n",
      " 13  Region                   12330 non-null  int64  \n",
      " 14  TrafficType              12330 non-null  int64  \n",
      " 15  VisitorType              12330 non-null  object \n",
      " 16  Weekend                  12330 non-null  bool   \n",
      " 17  Revenue                  12330 non-null  bool   \n",
      "dtypes: bool(2), float64(7), int64(7), object(2)\n",
      "memory usage: 1.5+ MB\n"
     ]
    }
   ],
   "source": [
    "shoppers.info()"
   ]
  },
  {
   "cell_type": "code",
   "execution_count": 98,
   "id": "ba333f92",
   "metadata": {},
   "outputs": [
    {
     "data": {
      "text/plain": [
       "False    10422\n",
       "True      1908\n",
       "Name: Revenue, dtype: int64"
      ]
     },
     "execution_count": 98,
     "metadata": {},
     "output_type": "execute_result"
    }
   ],
   "source": [
    "label.value_counts()"
   ]
  },
  {
   "cell_type": "markdown",
   "id": "38924147",
   "metadata": {},
   "source": [
    "**Choose column [1, 4, 5, 11, 12, 13] and turn into numpy array ``\" x \"``**"
   ]
  },
  {
   "cell_type": "code",
   "execution_count": 127,
   "id": "60a5bd6e",
   "metadata": {},
   "outputs": [],
   "source": [
    "x = np.array(shoppers.iloc[:,[1,4,5,11,12,13]])"
   ]
  },
  {
   "cell_type": "code",
   "execution_count": 128,
   "id": "5d9f6587",
   "metadata": {},
   "outputs": [
    {
     "data": {
      "text/plain": [
       "array([[  0.  ,   1.  ,   0.  ,   1.  ,   1.  ,   1.  ],\n",
       "       [  0.  ,   2.  ,  64.  ,   2.  ,   2.  ,   1.  ],\n",
       "       [  0.  ,   1.  ,   0.  ,   4.  ,   1.  ,   9.  ],\n",
       "       ...,\n",
       "       [  0.  ,   6.  , 184.25,   3.  ,   2.  ,   1.  ],\n",
       "       [ 75.  ,  15.  , 346.  ,   2.  ,   2.  ,   3.  ],\n",
       "       [  0.  ,   3.  ,  21.25,   3.  ,   2.  ,   1.  ]])"
      ]
     },
     "execution_count": 128,
     "metadata": {},
     "output_type": "execute_result"
    }
   ],
   "source": [
    "x"
   ]
  },
  {
   "cell_type": "markdown",
   "id": "fb71a422",
   "metadata": {},
   "source": [
    "**Use numpy function to load weight data, bias data and check their shape**"
   ]
  },
  {
   "cell_type": "code",
   "execution_count": 101,
   "id": "3b6134bf",
   "metadata": {},
   "outputs": [],
   "source": [
    "weight_1 = np.load('layer_1_weight.npy')\n",
    "weight_2 = np.load('layer_2_weight.npy')\n",
    "\n",
    "bias_1 = np.load('layer_1_bias.npy')\n",
    "bias_2 = np.load('layer_2_bias.npy')"
   ]
  },
  {
   "cell_type": "code",
   "execution_count": 104,
   "id": "833ce294",
   "metadata": {},
   "outputs": [
    {
     "name": "stdout",
     "output_type": "stream",
     "text": [
      "weight_1 shape: (6, 32)\n",
      "weight_2 shape: (32, 2)\n",
      "\n",
      "bias_1 shape: (32,)\n",
      "bias_2 shape: (2,)\n"
     ]
    }
   ],
   "source": [
    "print('weight_1 shape:',np.shape( weight_1))\n",
    "print('weight_2 shape:',np.shape( weight_2))\n",
    "print('')\n",
    "print('bias_1 shape:',np.shape(bias_1) )\n",
    "print('bias_2 shape:',np.shape(bias_2) )"
   ]
  },
  {
   "cell_type": "markdown",
   "id": "b0e36456",
   "metadata": {},
   "source": [
    "**Use numpy function to compute `\" x \"` and weight_1 matrix multiplication, and check the shape**"
   ]
  },
  {
   "cell_type": "code",
   "execution_count": 129,
   "id": "199e5a01",
   "metadata": {},
   "outputs": [],
   "source": [
    "x = np.dot(x,weight_1) "
   ]
  },
  {
   "cell_type": "code",
   "execution_count": 130,
   "id": "078cf00e-ecfe-47c2-9f6e-399beeb3f8c4",
   "metadata": {},
   "outputs": [
    {
     "data": {
      "text/plain": [
       "(12330, 32)"
      ]
     },
     "execution_count": 130,
     "metadata": {},
     "output_type": "execute_result"
    }
   ],
   "source": [
    "np.shape(x)"
   ]
  },
  {
   "cell_type": "markdown",
   "id": "8fc8eb26",
   "metadata": {},
   "source": [
    "**Use numpy function to compute `\" x \"` and bias_1 matrix addtion, and check the shape**"
   ]
  },
  {
   "cell_type": "code",
   "execution_count": 131,
   "id": "ee6aebc0",
   "metadata": {},
   "outputs": [],
   "source": [
    "x = x + bias_1"
   ]
  },
  {
   "cell_type": "code",
   "execution_count": 132,
   "id": "37eba7d0-e49f-4a9d-8dac-d7e2a4fb5cc2",
   "metadata": {},
   "outputs": [
    {
     "data": {
      "text/plain": [
       "(12330, 32)"
      ]
     },
     "execution_count": 132,
     "metadata": {},
     "output_type": "execute_result"
    }
   ],
   "source": [
    "np.shape(x)"
   ]
  },
  {
   "cell_type": "markdown",
   "id": "dd497420",
   "metadata": {},
   "source": [
    "**Use numpy function to compute `\" x \"` and weight_2 matrix multiplication, and check the shape**"
   ]
  },
  {
   "cell_type": "code",
   "execution_count": 133,
   "id": "1125b876",
   "metadata": {},
   "outputs": [],
   "source": [
    "x = np.dot(x,weight_2)"
   ]
  },
  {
   "cell_type": "code",
   "execution_count": 134,
   "id": "38ce3bb2-87bf-43e8-98f5-e8471b7543af",
   "metadata": {},
   "outputs": [
    {
     "data": {
      "text/plain": [
       "(12330, 2)"
      ]
     },
     "execution_count": 134,
     "metadata": {},
     "output_type": "execute_result"
    }
   ],
   "source": [
    "np.shape(x)"
   ]
  },
  {
   "cell_type": "markdown",
   "id": "edceca0a",
   "metadata": {},
   "source": [
    "**Use numpy function to compute `\" x \"` and bias_2 matrix addtion, and check the shape**"
   ]
  },
  {
   "cell_type": "code",
   "execution_count": 135,
   "id": "313340ee",
   "metadata": {},
   "outputs": [],
   "source": [
    "x = x + bias_2"
   ]
  },
  {
   "cell_type": "code",
   "execution_count": 136,
   "id": "836d1cfd-9511-4c5a-bbea-43cdbe0b876d",
   "metadata": {},
   "outputs": [
    {
     "data": {
      "text/plain": [
       "(12330, 2)"
      ]
     },
     "execution_count": 136,
     "metadata": {},
     "output_type": "execute_result"
    }
   ],
   "source": [
    "np.shape(x)"
   ]
  },
  {
   "cell_type": "markdown",
   "id": "21801bde",
   "metadata": {},
   "source": [
    "**Check if your x is same as below**"
   ]
  },
  {
   "cell_type": "code",
   "execution_count": 137,
   "id": "a31a7e3f",
   "metadata": {},
   "outputs": [
    {
     "data": {
      "text/plain": [
       "array([[ -0.42815397,  -0.58708018],\n",
       "       [ 17.76804854, -12.0093477 ],\n",
       "       [ -1.07327452,  -3.72237766],\n",
       "       ...,\n",
       "       [ 51.70654464, -34.08445513],\n",
       "       [110.52965928, -73.95802223],\n",
       "       [  5.45892153,  -4.42243782]])"
      ]
     },
     "execution_count": 137,
     "metadata": {},
     "output_type": "execute_result"
    }
   ],
   "source": [
    "x"
   ]
  },
  {
   "cell_type": "markdown",
   "id": "f509278b",
   "metadata": {},
   "source": [
    "**Use numpy function to find out each row which one value is bigger, and save it as `\" pre \"`**"
   ]
  },
  {
   "cell_type": "code",
   "execution_count": 138,
   "id": "a3db40d4-f40d-46bb-b2c8-8086dc838c14",
   "metadata": {},
   "outputs": [],
   "source": [
    "def cal_bigger(arr):\n",
    "    if  arr[0] > arr[1] :\n",
    "        return 0\n",
    "    else:\n",
    "        return 1"
   ]
  },
  {
   "cell_type": "code",
   "execution_count": 139,
   "id": "c454cb92",
   "metadata": {},
   "outputs": [
    {
     "data": {
      "text/plain": [
       "array([0, 0, 0, ..., 0, 0, 0])"
      ]
     },
     "execution_count": 139,
     "metadata": {},
     "output_type": "execute_result"
    }
   ],
   "source": [
    "pre = np.apply_along_axis(cal_bigger, axis=1, arr=x)\n",
    "pre"
   ]
  },
  {
   "cell_type": "markdown",
   "id": "39385681",
   "metadata": {},
   "source": [
    "**Use numpy function to check if `pre[i]` is the same as `label[i]`, and save it as `\" check \"`**"
   ]
  },
  {
   "cell_type": "code",
   "execution_count": 148,
   "id": "82fd77c0",
   "metadata": {},
   "outputs": [
    {
     "data": {
      "text/plain": [
       "array([1, 1, 1, ..., 1, 1, 1])"
      ]
     },
     "execution_count": 148,
     "metadata": {},
     "output_type": "execute_result"
    }
   ],
   "source": [
    "check = np.where(pre == label,1,-1)\n",
    "check"
   ]
  },
  {
   "cell_type": "markdown",
   "id": "1a0674c0",
   "metadata": {},
   "source": [
    "**Use numpy function to calculate the accuracy**"
   ]
  },
  {
   "cell_type": "code",
   "execution_count": 149,
   "id": "2bfeabd9",
   "metadata": {},
   "outputs": [
    {
     "name": "stdout",
     "output_type": "stream",
     "text": [
      "accuracy: 0.8284671532846716\n"
     ]
    }
   ],
   "source": [
    "print('accuracy:',np.count_nonzero(check==1)/len(check))"
   ]
  }
 ],
 "metadata": {
  "kernelspec": {
   "display_name": "python39_kernel",
   "language": "python",
   "name": "python39_kernel"
  },
  "language_info": {
   "codemirror_mode": {
    "name": "ipython",
    "version": 3
   },
   "file_extension": ".py",
   "mimetype": "text/x-python",
   "name": "python",
   "nbconvert_exporter": "python",
   "pygments_lexer": "ipython3",
   "version": "3.9.13"
  }
 },
 "nbformat": 4,
 "nbformat_minor": 5
}
